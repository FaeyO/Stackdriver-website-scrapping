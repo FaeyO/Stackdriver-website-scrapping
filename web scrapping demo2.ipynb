{
 "cells": [
  {
   "cell_type": "markdown",
   "id": "b560d011",
   "metadata": {},
   "source": [
    "## Scrapping data from company wikipedia page using beautiful soup"
   ]
  },
  {
   "cell_type": "code",
   "execution_count": 1,
   "id": "f0405751",
   "metadata": {},
   "outputs": [],
   "source": [
    "#import modules and packages\n",
    "from scrapy import Selector\n",
    "import requests\n",
    "from bs4 import BeautifulSoup\n",
    "import csv"
   ]
  },
  {
   "cell_type": "code",
   "execution_count": 8,
   "id": "ad32f3af",
   "metadata": {},
   "outputs": [
    {
     "name": "stdout",
     "output_type": "stream",
     "text": [
      "Stackdriver\n",
      "Google\n",
      "Required\n",
      "May 1, 2014; 9 years ago (2014-05-01)\n",
      "1 \n",
      "^ \"VMware vets launch Stackdriver, raise $5M from Bain Capital Ventures\". The Business Journals. September 21, 2012.\n",
      "\n",
      "2  Morgan, Timothy Prickett (2 May 2013). \"Stackdriver fluffs up cloudy management tool\". The Register.\n",
      "\n",
      "3  Lardinois, Frederic. \"Google Acquires Cloud Monitoring Service Stackdriver\". techcrunch.com. Retrieved 5 May 2017.\n",
      "\n",
      "4  \"Google Stackdriver is now generally available for hybrid cloud monitoring, logging and diagnostics\". googleblog.com. Retrieved 5 May 2017.\n",
      "\n",
      "\n",
      "\n"
     ]
    }
   ],
   "source": [
    "url = 'https://en.wikipedia.org/wiki/Stackdriver'\n",
    "response = requests.get(url)\n",
    "html = response.text\n",
    "soup = BeautifulSoup(html,'lxml')\n",
    "#soup.prettify()\n",
    "\n",
    "csv_file = open('stackdrive_scrape.csv','w',encoding='utf-8')\n",
    "\n",
    "csv_writer = csv.writer(csv_file)\n",
    "csv_writer.writerow(['Title','company_name','Registration',\n",
    "                     'Launch_date','article_refrences'])\n",
    "\n",
    "article = soup.find('div', class_='mw-content-container')\n",
    "#finding title of the article\n",
    "title = article.h1.span.text\n",
    "print(title)\n",
    "\n",
    "content = soup.find('div', class_='mw-parser-output')\n",
    "#print(content.prettify())\n",
    "\n",
    "#finding the company_oowner name\n",
    "owner = content.find('table', class_='infobox vcard')\n",
    "#print(owner.prettify())\n",
    "\n",
    "#finding the name of company\n",
    "company = owner.find_all('tr')[2]\n",
    "comp_name = company.td.text\n",
    "print(comp_name)\n",
    "\n",
    "#is the company registered or not?\n",
    "registration = owner.find_all('tr')[5]\n",
    "reg_ans = registration.td.text\n",
    "print(reg_ans)\n",
    "\n",
    "#company date of launch\n",
    "launched = owner.find_all('tr')[6]\n",
    "date_laun = launched.td.get_text()\n",
    "print(date_laun)\n",
    "\n",
    "#refrences from the article about the company\n",
    "refrences = content.find('div', class_='reflist')\n",
    "li_refrences = refrences.div.text.split('\\n\\n^')\n",
    "\n",
    "for i,ref in enumerate(li_refrences, start=1):\n",
    "    print(i,ref)\n",
    "    print()\n",
    "\n",
    "#saving scrapped data in a csv file\n",
    "csv_writer.writerow([title, comp_name, reg_ans, date_laun, li_refrences])\n",
    "csv_file.close()"
   ]
  },
  {
   "cell_type": "code",
   "execution_count": 9,
   "id": "71177ea4",
   "metadata": {},
   "outputs": [
    {
     "data": {
      "text/html": [
       "<div>\n",
       "<style scoped>\n",
       "    .dataframe tbody tr th:only-of-type {\n",
       "        vertical-align: middle;\n",
       "    }\n",
       "\n",
       "    .dataframe tbody tr th {\n",
       "        vertical-align: top;\n",
       "    }\n",
       "\n",
       "    .dataframe thead th {\n",
       "        text-align: right;\n",
       "    }\n",
       "</style>\n",
       "<table border=\"1\" class=\"dataframe\">\n",
       "  <thead>\n",
       "    <tr style=\"text-align: right;\">\n",
       "      <th></th>\n",
       "      <th>Title</th>\n",
       "      <th>company_name</th>\n",
       "      <th>Registration</th>\n",
       "      <th>Launch_date</th>\n",
       "      <th>article_refrences</th>\n",
       "    </tr>\n",
       "  </thead>\n",
       "  <tbody>\n",
       "    <tr>\n",
       "      <th>0</th>\n",
       "      <td>Stackdriver</td>\n",
       "      <td>Google</td>\n",
       "      <td>Required</td>\n",
       "      <td>May 1, 2014; 9 years ago (2014-05-01)</td>\n",
       "      <td>['\\n^ \"VMware vets launch Stackdriver, raise $...</td>\n",
       "    </tr>\n",
       "  </tbody>\n",
       "</table>\n",
       "</div>"
      ],
      "text/plain": [
       "         Title company_name Registration  \\\n",
       "0  Stackdriver       Google     Required   \n",
       "\n",
       "                             Launch_date  \\\n",
       "0  May 1, 2014; 9 years ago (2014-05-01)   \n",
       "\n",
       "                                   article_refrences  \n",
       "0  ['\\n^ \"VMware vets launch Stackdriver, raise $...  "
      ]
     },
     "execution_count": 9,
     "metadata": {},
     "output_type": "execute_result"
    }
   ],
   "source": [
    "#reading the created csv file\n",
    "import pandas as pd\n",
    "dr = pd.read_csv('stackdrive_scrape.csv')\n",
    "dr"
   ]
  },
  {
   "cell_type": "code",
   "execution_count": null,
   "id": "45c1e57b",
   "metadata": {},
   "outputs": [],
   "source": []
  }
 ],
 "metadata": {
  "hide_input": false,
  "kernelspec": {
   "display_name": "Python 3 (ipykernel)",
   "language": "python",
   "name": "python3"
  },
  "language_info": {
   "codemirror_mode": {
    "name": "ipython",
    "version": 3
   },
   "file_extension": ".py",
   "mimetype": "text/x-python",
   "name": "python",
   "nbconvert_exporter": "python",
   "pygments_lexer": "ipython3",
   "version": "3.9.13"
  }
 },
 "nbformat": 4,
 "nbformat_minor": 5
}
